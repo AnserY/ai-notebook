{
 "cells": [
  {
   "cell_type": "code",
   "execution_count": null,
   "id": "d23d9eab",
   "metadata": {},
   "outputs": [],
   "source": [
    "import torch \n",
    "import numpy as np\n",
    "from torch import nn \n",
    "import gymnasium as gym\n",
    "from torch.distributions.categorical import Categorical\n",
    "from torch.optim import Adam"
   ]
  },
  {
   "cell_type": "code",
   "execution_count": null,
   "id": "e0042faa",
   "metadata": {},
   "outputs": [
    {
     "name": "stderr",
     "output_type": "stream",
     "text": [
      "/home/yanser/Documents/ai-notebook/venv/lib/python3.12/site-packages/gymnasium/envs/registration.py:512: DeprecationWarning: \u001b[33mWARN: The environment CartPole-v0 is out of date. You should consider upgrading to version `v1`.\u001b[0m\n",
      "  logger.deprecation(\n"
     ]
    },
    {
     "ename": "NameError",
     "evalue": "name 'Adam' is not defined",
     "output_type": "error",
     "traceback": [
      "\u001b[31m---------------------------------------------------------------------------\u001b[39m",
      "\u001b[31mNameError\u001b[39m                                 Traceback (most recent call last)",
      "\u001b[36mCell\u001b[39m\u001b[36m \u001b[39m\u001b[32mIn[6]\u001b[39m\u001b[32m, line 86\u001b[39m\n\u001b[32m     83\u001b[39m         _,_,_ = epoch_train()\n\u001b[32m     85\u001b[39m \u001b[38;5;28;01mif\u001b[39;00m \u001b[34m__name__\u001b[39m == \u001b[33m'\u001b[39m\u001b[33m__main__\u001b[39m\u001b[33m'\u001b[39m:\n\u001b[32m---> \u001b[39m\u001b[32m86\u001b[39m     \u001b[43mtrain\u001b[49m\u001b[43m(\u001b[49m\u001b[43m)\u001b[49m\n",
      "\u001b[36mCell\u001b[39m\u001b[36m \u001b[39m\u001b[32mIn[6]\u001b[39m\u001b[32m, line 38\u001b[39m, in \u001b[36mtrain\u001b[39m\u001b[34m(env_name, lr, batch_size, epochs, render)\u001b[39m\n\u001b[32m     34\u001b[39m     prob = get_policy(obss).log_prob(acts)\n\u001b[32m     35\u001b[39m     \u001b[38;5;28;01mreturn\u001b[39;00m - (weights * prob).mean()\n\u001b[32m---> \u001b[39m\u001b[32m38\u001b[39m optimizer = \u001b[43mAdam\u001b[49m(params=logit_net.parameters(), lr=lr)\n\u001b[32m     40\u001b[39m \u001b[38;5;28;01mdef\u001b[39;00m\u001b[38;5;250m \u001b[39m\u001b[34mepoch_train\u001b[39m():\n\u001b[32m     41\u001b[39m     batch_obs= []\n",
      "\u001b[31mNameError\u001b[39m: name 'Adam' is not defined"
     ]
    }
   ],
   "source": [
    "## class MLP = neural policy \n",
    "# Function: \n",
    "## get policy : output action distribution \n",
    "## get action : sample from the policy \n",
    "## compute loss: compute the loss function \n",
    "## train : loop of epoch : act, collect obs, backprobagate, optimize \n",
    "\n",
    "class MLP(nn.Module):\n",
    "    def __init__(self, input_size, output_size):\n",
    "        super().__init__()\n",
    "        module = [\n",
    "            nn.Linear(input_size,64),\n",
    "            nn.ReLU(inplace=True),\n",
    "            nn.Linear(64,output_size)\n",
    "        ]\n",
    "        self.mlp= nn.Sequential(*module)\n",
    "\n",
    "    def forward(self, state):\n",
    "        return self.mlp(state)\n",
    "    \n",
    "def train(env_name='CartPole-v0', lr=1e-2, batch_size=5000, epochs=50, render=False): \n",
    "    env = gym.make(env_name)\n",
    "    obs_size = env.observation_space.shape[0]\n",
    "    act_size = env.action_space.n\n",
    "    logit_net = MLP(obs_size,act_size)\n",
    "\n",
    "    def get_policy(obs): \n",
    "        return Categorical(logits=logit_net(obs))\n",
    "    \n",
    "    def get_action(obs):\n",
    "        return get_policy(obs).sample().item()\n",
    "    \n",
    "    def compute_loss(acts, obss, weights):\n",
    "        prob = get_policy(obss).log_prob(acts)\n",
    "        return - (weights * prob).mean()\n",
    "    \n",
    "\n",
    "    optimizer = Adam(params=logit_net.parameters(), lr=lr)\n",
    "\n",
    "    def epoch_train():\n",
    "        batch_obs= []\n",
    "        batch_act = []\n",
    "        batch_weight = []\n",
    "        batch_return = []\n",
    "        batch_len = []\n",
    "        ep_reward = []\n",
    "\n",
    "        obs = env.reset()\n",
    "        done = False \n",
    "        \n",
    "\n",
    "        while True : \n",
    "            # collect\n",
    "            batch_obs.append(obs.copy())\n",
    "            act = get_action(obs)\n",
    "            batch_act.append(act)\n",
    "            obs, reward, done = env.step(act)\n",
    "\n",
    "            ep_reward.append(reward)\n",
    "\n",
    "\n",
    "            if done: \n",
    "                # episode over collect info about episode \n",
    "                ep_return, ep_len = sum(ep_reward), len(ep_reward)\n",
    "                batch_return.append(ep_return)\n",
    "                batch_len. append\n",
    "                batch_weight += [ep_return] * ep_len\n",
    "\n",
    "                obs, done, ep_reward  =  env.reset(), False, [] \n",
    "\n",
    "                if len(batch_obs)> batch_size:\n",
    "                    break\n",
    "        \n",
    "\n",
    "        loss = compute_loss(acts=torch.as_tensor(batch_act), obss=torch.as_tensor(batch_obs), weights=torch.as_tensor(batch_weight))\n",
    "        loss.backward()\n",
    "        optimizer.step()\n",
    "        \n",
    "        return loss, batch_return, batch_len\n",
    "    \n",
    "\n",
    "    for i in range(epochs):\n",
    "        _,_,_ = epoch_train()\n",
    "\n",
    "if __name__ == '__main__':\n",
    "    train()"
   ]
  }
 ],
 "metadata": {
  "kernelspec": {
   "display_name": "venv",
   "language": "python",
   "name": "python3"
  },
  "language_info": {
   "codemirror_mode": {
    "name": "ipython",
    "version": 3
   },
   "file_extension": ".py",
   "mimetype": "text/x-python",
   "name": "python",
   "nbconvert_exporter": "python",
   "pygments_lexer": "ipython3",
   "version": "3.12.3"
  }
 },
 "nbformat": 4,
 "nbformat_minor": 5
}
