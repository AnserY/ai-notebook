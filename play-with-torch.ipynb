{
 "cells": [
  {
   "cell_type": "code",
   "execution_count": 2,
   "id": "6ba81d44",
   "metadata": {},
   "outputs": [],
   "source": [
    "import torch\n",
    "import numpy as np\n",
    "from torch.distributions import Categorical\n",
    "from torch.optim import Adam\n",
    "from torch.nn import MSELoss\n",
    "from torch import nn "
   ]
  },
  {
   "cell_type": "code",
   "execution_count": 25,
   "id": "3902a79d",
   "metadata": {},
   "outputs": [
    {
     "name": "stdout",
     "output_type": "stream",
     "text": [
      "tensor([0.6590, 0.2424, 0.0986])\n",
      "tensor(1)\n"
     ]
    }
   ],
   "source": [
    "# Create a categorical distribution with given probabilities\n",
    "prob = torch.tensor([2.0, 1.0, 0.1])\n",
    "\n",
    "m = Categorical(logits=prob)\n",
    "\n",
    "x = m.sample()  # sample from the distribution\n",
    "\n",
    "print(m.probs)\n",
    "print(x)\n"
   ]
  },
  {
   "cell_type": "code",
   "execution_count": 27,
   "id": "0b33cabc",
   "metadata": {},
   "outputs": [
    {
     "name": "stdout",
     "output_type": "stream",
     "text": [
      "[1. 2. 3.]\n",
      "tensor([1., 2., 3.])\n"
     ]
    }
   ],
   "source": [
    "num = np.array([1.0, 2.0, 3.0])\n",
    "ten = torch.tensor([1.0, 2.0, 3.0])\n",
    "print(num)\n",
    "print(ten)"
   ]
  },
  {
   "cell_type": "code",
   "execution_count": null,
   "id": "59034590",
   "metadata": {},
   "outputs": [],
   "source": [
    "# implement linear regression\n",
    "## generate noisy data \n",
    "## class regresion \n",
    "### init \n",
    "### forward \n",
    "\n",
    "x = torch.rand(100, 1) * 10 \n",
    "y = 2*x+3+torch.rand(100, 1)*10\n",
    "\n",
    "class regression(nn.Module):\n",
    "    def __init__(self,input_size,output):\n",
    "        super(regression,self).__init__()\n",
    "        self.regression  = nn.Linear(input_size,output)\n",
    "        \n",
    "    def forward(self,input):\n",
    "        return self.regression(input)\n",
    "        \n",
    "def train(epoch=1000):\n",
    "    model = regression(1,1)\n",
    "    optimizer = Adam(params=model.parameters(),lr = 1e-2)\n",
    "\n",
    "    def loss_func(prediction,Y):\n",
    "        return nn.MSELoss(prediction,Y)    \n",
    "\n",
    "    for i in range(epoch):\n",
    "\n",
    "        X = model(x)\n",
    "        loss = loss_func(X,Y=y)\n",
    "        loss.backward()\n",
    "        optimizer.step()\n",
    "\n",
    "\n"
   ]
  },
  {
   "cell_type": "markdown",
   "id": "4c246f3e",
   "metadata": {},
   "source": [
    "## Beginner Exercises\n",
    "\n",
    "### Create tensors\n",
    "- Create a tensor of shape (3, 4) filled with ones.\n",
    "- Create a tensor of shape (2, 3) with random values between 0 and 1.\n",
    "- Create a tensor of shape (5,) with integers from 10 to 14.\n",
    "\n",
    "### Reshaping\n",
    "- Given a tensor of shape (6,), reshape it to (2, 3).\n",
    "- Flatten a (2, 3, 4) tensor into (24,).\n",
    "\n",
    "## Indexing & slicing\n",
    "- From a (4, 5) tensor of random numbers, extract the 2nd row.\n",
    "- Extract the last column.\n",
    "- Extract a 2x2 submatrix from the top-left corner."
   ]
  },
  {
   "cell_type": "code",
   "execution_count": 53,
   "id": "c32edae5",
   "metadata": {},
   "outputs": [
    {
     "name": "stdout",
     "output_type": "stream",
     "text": [
      "tensor([13, 12, 12, 11, 13])\n",
      "torch.Size([1, 5])\n",
      "tensor([[0.9941, 0.1571, 0.8375, 0.4253, 0.4684],\n",
      "        [0.8820, 0.1999, 0.3000, 0.1846, 0.4069],\n",
      "        [0.7500, 0.6224, 0.3362, 0.9613, 0.8089],\n",
      "        [0.0788, 0.5322, 0.1632, 0.7856, 0.8573]])\n",
      "tensor([[0.9941, 0.1571],\n",
      "        [0.8820, 0.1999]])\n",
      "tensor(0.8573)\n",
      "tensor([1., 1., 1., 1., 1., 1., 1., 1., 1., 1., 1., 1., 1., 1., 1., 1., 1., 1.,\n",
      "        1., 1., 1., 1., 1., 1.])\n",
      "tensor([[1., 1., 1.],\n",
      "        [1., 1., 1.]])\n"
     ]
    }
   ],
   "source": [
    "one_tensor = torch.ones(3,4)\n",
    "rand_tensor = torch.rand(2,3)\n",
    "int_tensor = torch.randint(10,14,(5,))\n",
    "\n",
    "print(int_tensor)\n",
    "\n",
    "reshape_1 = torch.ones(6,).reshape(2,3)\n",
    "flatten = torch.ones(2,3,4).flatten()\n",
    "torch_rand = torch.rand(4,5)[1:2,:]\n",
    "torch_rand2 = torch.rand(4,5)\n",
    "print(torch_rand.shape)\n",
    "print(torch_rand2)\n",
    "#print(torch_rand2[:,1:])\n",
    "print(torch_rand2[:2,:2])\n",
    "print(torch_rand2[3,4])\n",
    "print(flatten)\n",
    "print(reshape_1)"
   ]
  },
  {
   "cell_type": "markdown",
   "id": "0875a86f",
   "metadata": {},
   "source": [
    "Memory layout in PyTorch\n",
    "- A tensor’s elements are stored in a 1D contiguous block of memory (flattened).\n",
    "- The shape tells you how many elements are in each dimension.\n",
    "- The stride tells you how to jump through that flat memory to pretend it’s multi-dimensional.\n",
    "- So: Tensor = (data in flat memory) + (shape) + (stride)."
   ]
  },
  {
   "cell_type": "code",
   "execution_count": 66,
   "id": "597832ee",
   "metadata": {},
   "outputs": [
    {
     "name": "stdout",
     "output_type": "stream",
     "text": [
      "torch.Size([4, 3])\n",
      "torch.Size([2, 6])\n",
      "torch.Size([5, 3])\n",
      "torch.Size([3, 4])\n"
     ]
    }
   ],
   "source": [
    "tensor1 = torch.rand(2,3)\n",
    "tensor2 = torch.rand(2,3)\n",
    "\n",
    "tensor3 = torch.cat((tensor1,tensor2),dim=0)\n",
    "tensor4 = torch.cat((tensor1,tensor2),dim=1)\n",
    "\n",
    "print(tensor3.shape)\n",
    "print(tensor4.shape)\n",
    "\n",
    "tensor5 = torch.rand(3,)\n",
    "tensor6 = torch.rand(3,)\n",
    "tensor7 = torch.rand(3,)\n",
    "tensor8 = torch.rand(3,)\n",
    "tensor9 = torch.rand(3,)\n",
    "tensor10 = torch.stack((tensor5,tensor6,tensor7,tensor8,tensor9), dim=0)\n",
    "print(tensor10.shape)\n",
    "\n",
    "tensor11 = torch.rand(3,1)\n",
    "tensor12 = torch.rand(1,4)\n",
    "tensor13 = tensor11+tensor12\n",
    "print(tensor13.shape)"
   ]
  },
  {
   "cell_type": "markdown",
   "id": "9e41f293",
   "metadata": {},
   "source": [
    "PyTorch doesn’t manually loop over rows/cols.\n",
    "It calls highly optimized BLAS/cuBLAS kernels.\n",
    "Optimization techniques include:\n",
    "    - Vectorization (SIMD on CPU, warps on GPU)\n",
    "    - Cache tiling\n",
    "    - Loop unrolling\n",
    "    - Specialized hardware (Tensor Cores)"
   ]
  },
  {
   "cell_type": "code",
   "execution_count": 81,
   "id": "663b3545",
   "metadata": {},
   "outputs": [
    {
     "name": "stdout",
     "output_type": "stream",
     "text": [
      "tensor([[[0.2824, 0.5962, 0.5751, 0.4169],\n",
      "         [0.4670, 0.6339, 0.5308, 0.7575],\n",
      "         [0.2844, 0.7697, 0.3408, 0.6234]],\n",
      "\n",
      "        [[0.1054, 0.2061, 0.9190, 0.6583],\n",
      "         [0.6751, 0.7465, 0.2917, 0.3791],\n",
      "         [0.3228, 0.3365, 0.6288, 0.8772]]])\n",
      "tensor([[[0.2824, 0.5962, 0.5751],\n",
      "         [0.4169, 0.4670, 0.6339]],\n",
      "\n",
      "        [[0.5308, 0.7575, 0.2844],\n",
      "         [0.7697, 0.3408, 0.6234]],\n",
      "\n",
      "        [[0.1054, 0.2061, 0.9190],\n",
      "         [0.6583, 0.6751, 0.7465]],\n",
      "\n",
      "        [[0.2917, 0.3791, 0.3228],\n",
      "         [0.3365, 0.6288, 0.8772]]])\n"
     ]
    },
    {
     "data": {
      "text/plain": [
       "8"
      ]
     },
     "execution_count": 81,
     "metadata": {},
     "output_type": "execute_result"
    }
   ],
   "source": [
    "int_tensor = torch.randint(10,14,(20,))\n",
    "tensor = torch.masked_select(int_tensor,int_tensor>11)\n",
    " \n",
    "\n",
    "transpose = torch.rand(3,4)\n",
    "transpose2 = transpose.T\n",
    "\n",
    "shape = torch.rand((2, 3, 4))\n",
    "reshape = shape.reshape(4, 2, 3)\n",
    "print(shape)\n",
    "print(reshape)\n",
    "\n",
    "\n",
    "mean = torch.rand((3, 5))\n",
    "means = mean.mean(dim=1)\n",
    "means\n",
    "\n",
    "indexs = torch.rand((10))\n",
    "index = torch.argmax(indexs).item()\n",
    "index"
   ]
  },
  {
   "cell_type": "code",
   "execution_count": 87,
   "id": "63bb6cc3",
   "metadata": {},
   "outputs": [
    {
     "data": {
      "text/plain": [
       "tensor([[[0.9774, 1.3048, 0.9484],\n",
       "         [1.0400, 1.7563, 0.9133]],\n",
       "\n",
       "        [[0.9161, 1.6865, 1.2889],\n",
       "         [1.3316, 1.9903, 1.6091]],\n",
       "\n",
       "        [[0.5159, 1.1496, 1.0573],\n",
       "         [0.5906, 0.8205, 1.1642]],\n",
       "\n",
       "        [[1.1881, 1.0514, 1.3172],\n",
       "         [2.0048, 2.0108, 2.7825]],\n",
       "\n",
       "        [[1.2100, 0.7351, 0.8591],\n",
       "         [1.0401, 1.0771, 1.0237]],\n",
       "\n",
       "        [[1.4483, 1.1131, 1.4766],\n",
       "         [1.8192, 1.5580, 1.5208]],\n",
       "\n",
       "        [[2.3495, 2.2897, 2.0965],\n",
       "         [1.0560, 0.9122, 0.8522]],\n",
       "\n",
       "        [[1.0321, 1.3409, 1.2096],\n",
       "         [0.8904, 1.3485, 1.5040]],\n",
       "\n",
       "        [[1.6036, 1.6470, 1.1457],\n",
       "         [1.2831, 1.4632, 1.0235]],\n",
       "\n",
       "        [[0.6462, 1.7841, 1.2301],\n",
       "         [0.5728, 1.0189, 0.9515]]])"
      ]
     },
     "execution_count": 87,
     "metadata": {},
     "output_type": "execute_result"
    }
   ],
   "source": [
    "mat1 = torch.rand(10,2,5)\n",
    "mat2 = torch.rand(10,5,3)\n",
    "\n",
    "mat3 = mat1 @ mat2\n",
    "\n",
    "mat3"
   ]
  },
  {
   "cell_type": "code",
   "execution_count": null,
   "id": "0d0e9395",
   "metadata": {},
   "outputs": [],
   "source": []
  }
 ],
 "metadata": {
  "kernelspec": {
   "display_name": "venv",
   "language": "python",
   "name": "python3"
  },
  "language_info": {
   "codemirror_mode": {
    "name": "ipython",
    "version": 3
   },
   "file_extension": ".py",
   "mimetype": "text/x-python",
   "name": "python",
   "nbconvert_exporter": "python",
   "pygments_lexer": "ipython3",
   "version": "3.12.3"
  }
 },
 "nbformat": 4,
 "nbformat_minor": 5
}
