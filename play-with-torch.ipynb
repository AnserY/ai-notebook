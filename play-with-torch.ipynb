{
 "cells": [
  {
   "cell_type": "code",
   "execution_count": 29,
   "id": "6ba81d44",
   "metadata": {},
   "outputs": [],
   "source": [
    "import torch\n",
    "import numpy as np\n",
    "from torch.distributions import Categorical\n",
    "from torch.optim import Adam\n",
    "from torch.nn import MSELoss\n",
    "from torch import nn "
   ]
  },
  {
   "cell_type": "code",
   "execution_count": 25,
   "id": "3902a79d",
   "metadata": {},
   "outputs": [
    {
     "name": "stdout",
     "output_type": "stream",
     "text": [
      "tensor([0.6590, 0.2424, 0.0986])\n",
      "tensor(1)\n"
     ]
    }
   ],
   "source": [
    "# Create a categorical distribution with given probabilities\n",
    "prob = torch.tensor([2.0, 1.0, 0.1])\n",
    "\n",
    "m = Categorical(logits=prob)\n",
    "\n",
    "x = m.sample()  # sample from the distribution\n",
    "\n",
    "print(m.probs)\n",
    "print(x)\n"
   ]
  },
  {
   "cell_type": "code",
   "execution_count": 27,
   "id": "0b33cabc",
   "metadata": {},
   "outputs": [
    {
     "name": "stdout",
     "output_type": "stream",
     "text": [
      "[1. 2. 3.]\n",
      "tensor([1., 2., 3.])\n"
     ]
    }
   ],
   "source": [
    "num = np.array([1.0, 2.0, 3.0])\n",
    "ten = torch.tensor([1.0, 2.0, 3.0])\n",
    "print(num)\n",
    "print(ten)"
   ]
  },
  {
   "cell_type": "code",
   "execution_count": null,
   "id": "59034590",
   "metadata": {},
   "outputs": [],
   "source": [
    "# implement linear regression\n",
    "## generate noisy data \n",
    "## class regresion \n",
    "### init \n",
    "### forward \n",
    "\n",
    "x = torch.rand(100, 1) * 10 \n",
    "y = 2*x+3+torch.rand(100, 1)*10\n",
    "\n",
    "class regression(nn.Module):\n",
    "    def __init__(self,input_size,output):\n",
    "        super(regression,self).__init__()\n",
    "        self.regression  = nn.Linear(input_size,output)\n",
    "\n",
    "        \n",
    "    def forward(self,input):\n",
    "        return self.regression(input)\n",
    "        \n",
    "\n",
    "\n",
    "def train(epoch=1000):\n",
    "    \n",
    "    model = regression(1,1)\n",
    "\n",
    "    optimizer = Adam(params=model.parameters(),lr = 1e-2)\n",
    "\n",
    "    def loss_func(prediction,Y):\n",
    "        return nn.MSELoss(prediction,Y)    \n",
    "\n",
    "\n",
    "    for i in range(epoch):\n",
    "\n",
    "        X = model(x)\n",
    "        loss = loss_func(X,Y=y)\n",
    "        loss.backward()\n",
    "        optimizer.step()\n",
    "\n",
    "\n"
   ]
  },
  {
   "cell_type": "code",
   "execution_count": null,
   "id": "60a542f7",
   "metadata": {},
   "outputs": [],
   "source": []
  }
 ],
 "metadata": {
  "kernelspec": {
   "display_name": "venv",
   "language": "python",
   "name": "python3"
  },
  "language_info": {
   "codemirror_mode": {
    "name": "ipython",
    "version": 3
   },
   "file_extension": ".py",
   "mimetype": "text/x-python",
   "name": "python",
   "nbconvert_exporter": "python",
   "pygments_lexer": "ipython3",
   "version": "3.12.3"
  }
 },
 "nbformat": 4,
 "nbformat_minor": 5
}
